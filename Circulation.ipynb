{
 "cells": [
  {
   "cell_type": "code",
   "execution_count": 153,
   "metadata": {},
   "outputs": [],
   "source": [
    "import numpy as np\n",
    "from matplotlib import pyplot as plt\n",
    "from scipy.optimize import root, root_scalar\n",
    "\n",
    "plt.rcParams['font.size'] = 15\n",
    "plt.rcParams['font.weight'] ='bold'\n",
    "plt.rcParams['axes.labelweight'] = 'bold'\n",
    "plt.rcParams['axes.titleweight'] = 'bold'\n",
    "plt.rcParams['axes.titlesize'] = 15"
   ]
  },
  {
   "cell_type": "markdown",
   "metadata": {},
   "source": [
    "# Circulation\n",
    "## Mathematical physiology II, chapter 11\n",
    "IBM3101 - Francisco Sahli"
   ]
  },
  {
   "cell_type": "code",
   "execution_count": 154,
   "metadata": {},
   "outputs": [],
   "source": [
    "def plotPVloop(Vh, Cd, Cs, Pv, Pa, Q):\n",
    "    Vmin = 10.0\n",
    "    Vmax = Vmin + Vh\n",
    "\n",
    "    P = np.linspace(0,140, 100)\n",
    "    VED = Vmax + Cd*P\n",
    "    VES = Vmin + Cs*P\n",
    "\n",
    "    plt.plot(VED, P,'k')\n",
    "    plt.plot(VES, P,'k')\n",
    "    plt.xlim([0,160])\n",
    "\n",
    "\n",
    "    Ved = Vmax + Cd*Pv\n",
    "    Ves = Vmin + Cs*Pa\n",
    "\n",
    "    plt.plot([Ved, Ves], [Pv, Pv],'k')\n",
    "    plt.plot([Ved, Ves], [Pa, Pa],'k')\n",
    "    plt.plot([Ved, Ved], [Pv, Pa],'k')\n",
    "    plt.plot([Ves, Ves], [Pv, Pa],'k')\n",
    "\n",
    "    plt.xlabel('Volume [mL]')\n",
    "    plt.ylabel('Pressure [mmHg]')\n",
    "    plt.title('Q = %.1f [mL/min]' % Q)"
   ]
  },
  {
   "cell_type": "code",
   "execution_count": 155,
   "metadata": {},
   "outputs": [
    {
     "name": "stdout",
     "output_type": "stream",
     "text": [
      "Q baseline 4853.770147360675\n",
      "Q modified 4853.770147360675\n"
     ]
    },
    {
     "data": {
      "image/png": "[encoded data removed]",
      "text/plain": [
       "<Figure size 432x288 with 1 Axes>"
      ]
     },
     "metadata": {
      "needs_background": "light"
     },
     "output_type": "display_data"
    }
   ],
   "source": [
    "def circmodelinv(Y, F, V0, Vh, Vheart, Pa, Pv, V, Q):\n",
    "    R, gamma = Y\n",
    "    Cd = 10.\n",
    "    Cs = 0.3\n",
    "    Qvessel = 1/(3*R*gamma)*((1 + gamma*Pa)**3 - (1 + gamma*Pv)**3)\n",
    "    Vstroke = (Vh + Cd*Pv - Cs*Pa)\n",
    "    Qheart = F*Vstroke\n",
    "    eq1 = Q - Qvessel\n",
    "    eq2 = V - 3/4*((1 + gamma*Pa)**4 - (1 + gamma*Pv)**4)/((1 + gamma*Pa)**3 - (1 + gamma*Pv)**3)*V0\n",
    "    eq3 = V - V0 - Vheart\n",
    "    eq4 = Q - Qheart\n",
    "    return [eq1, eq2]\n",
    "\n",
    "Y0 = [0.01, .001]\n",
    "\n",
    "V0 = 6000 # mL\n",
    "Vh = 10 # mL\n",
    "Pa = 120 # mmHg\n",
    "Pv = 9 # mmHg\n",
    "Vstroke = 60 # mL\n",
    "Vheart = 60 # mL\n",
    "V = V0 + Vstroke\n",
    "Q = 5000 # mL/minute\n",
    "F = 60 # beats/minute\n",
    "\n",
    "sol = root(circmodelinv, Y0, args = (F, V0, Vh, Vheart, Pa, Pv, V, Q))\n",
    "    \n",
    "R, gamma = sol.x   \n",
    "\n",
    "\n",
    "def circmodel(Y, F, V0, Vh, Vheart, R, gamma, Cd, Cs):\n",
    "    Pa, Pv, V, Q = Y\n",
    "    Qvessel = 1/(3*R*gamma)*((1 + gamma*Pa)**3 - (1 + gamma*Pv)**3)\n",
    "    Vstroke = (Vh + Cd*Pv - Cs*Pa)\n",
    "    Qheart = F*Vstroke\n",
    "    Ved = 30 + Cd*Pv\n",
    "    Ves = 10 + Cs*Pa\n",
    "    eq1 = Q - Qvessel\n",
    "    eq2 = V - 3/4*((1 + gamma*Pa)**4 - (1 + gamma*Pv)**4)/((1 + gamma*Pa)**3 - (1 + gamma*Pv)**3)*V0\n",
    "    eq3 = V - 60 - V0\n",
    "    eq4 = Qvessel - Qheart\n",
    "    return [eq1, eq2, eq3, eq4]\n",
    "\n",
    "Y0 = [120, 10., 6000.,5000.]\n",
    "\n",
    "\n",
    "V0 = 6000 # mL\n",
    "Vh = 10 # mL\n",
    "Vheart = 60 # mL\n",
    "Cd = 10\n",
    "Cs = .3\n",
    "F = 60 # beats/minute\n",
    "\n",
    "sol = root(circmodel, Y0, args = (F, V0, Vh, Vheart, R, gamma, Cd, Cs))\n",
    "\n",
    "Pa, Pv, V, Q = sol.x\n",
    "\n",
    "plotPVloop(Vh, Cd, Cs, Pv, Pa, Q)\n",
    "\n",
    "print('Q baseline', Q)\n",
    "\n",
    "#gamma *= 2\n",
    "\n",
    "sol = root(circmodel, Y0, args = (F, V0, Vh, Vheart, R, gamma, Cd, Cs))\n",
    "\n",
    "Pa, Pv, V, Q = sol.x\n",
    "\n",
    "plotPVloop(Vh, Cd, Cs, Pv, Pa, Q)\n",
    "\n",
    "print('Q modified', Q)"
   ]
  },
  {
   "cell_type": "markdown",
   "metadata": {},
   "source": [
    "- double the parameter `R` to simulate hypertension\n",
    "- double the parameter `gamma` to simulate Arteriosclerosis"
   ]
  },
  {
   "cell_type": "code",
   "execution_count": null,
   "metadata": {},
   "outputs": [],
   "source": []
  }
 ],
 "metadata": {
  "kernelspec": {
   "display_name": "Python 3",
   "language": "python",
   "name": "python3"
  },
  "language_info": {
   "codemirror_mode": {
    "name": "ipython",
    "version": 3
   },
   "file_extension": ".py",
   "mimetype": "text/x-python",
   "name": "python",
   "nbconvert_exporter": "python",
   "pygments_lexer": "ipython3",
   "version": "3.7.3"
  }
 },
 "nbformat": 4,
 "nbformat_minor": 2
}
